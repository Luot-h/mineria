{
  "cells": [
    {
      "cell_type": "code",
      "source": [
        "import pandas as pd\n",
        "import numpy as np\n",
        "import matplotlib.pyplot as plt\n",
        "import requests\n",
        "import os\n",
        "import sys\n",
        "from ydata_profiling import ProfileReport"
      ],
      "outputs": [
        {
          "output_type": "display_data",
          "data": {
            "text/html": "\n        <div>\n            <ins><a href=\"https://ydata.ai/register\">Upgrade to ydata-sdk</a></ins>\n            <p>\n                Improve your data and profiling with ydata-sdk, featuring data quality scoring, redundancy detection, outlier identification, text validation, and synthetic data generation.\n            </p>\n        </div>\n        ",
            "text/plain": "<IPython.core.display.HTML object>"
          },
          "metadata": {}
        }
      ],
      "execution_count": 1,
      "metadata": {
        "gather": {
          "logged": 1741379729826
        }
      }
    },
    {
      "cell_type": "code",
      "source": [
        "#Web scrapping\n",
        "# Create the raw-data directory if it doesn't exist\n",
        "os.makedirs('raw-data', exist_ok=True)\n",
        "\n",
        "url_base = 'https://d37ci6vzurychx.cloudfront.net/trip-data/fhvhv_tripdata_2024-'\n",
        "# Download files for all 12 months\n",
        "for month in range(1, 13):\n",
        "    # Format month as 2 digits (01-12)\n",
        "    month_str = f\"{month:02d}\"\n",
        "    \n",
        "    # Create full URL\n",
        "    url = url_base + month_str + '.parquet'\n",
        "    \n",
        "    # Send GET request\n",
        "    response = requests.get(url)\n",
        "    \n",
        "    # Check if request was successful\n",
        "    if response.status_code == 200:\n",
        "        # Save file with new format in raw-data folder\n",
        "        file_path = os.path.join('raw-data', f'2024 - {month}.parquet')\n",
        "        with open(file_path, 'wb') as f:\n",
        "            f.write(response.content)\n",
        "        print(f'Successfully downloaded file for month {month_str} as \"2024 - {month}.parquet\"')\n",
        "    else:\n",
        "        print(f'Failed to download file for month {month_str}')\n"
      ],
      "outputs": [
        {
          "output_type": "stream",
          "name": "stdout",
          "text": "Successfully downloaded file for month 01 as \"2024 - 1.parquet\"\nSuccessfully downloaded file for month 02 as \"2024 - 2.parquet\"\nSuccessfully downloaded file for month 03 as \"2024 - 3.parquet\"\nSuccessfully downloaded file for month 04 as \"2024 - 4.parquet\"\nSuccessfully downloaded file for month 05 as \"2024 - 5.parquet\"\nSuccessfully downloaded file for month 06 as \"2024 - 6.parquet\"\nSuccessfully downloaded file for month 07 as \"2024 - 7.parquet\"\nSuccessfully downloaded file for month 08 as \"2024 - 8.parquet\"\nSuccessfully downloaded file for month 09 as \"2024 - 9.parquet\"\n"
        }
      ],
      "execution_count": 6,
      "metadata": {
        "editable": false,
        "run_control": {
          "frozen": true
        }
      }
    },
    {
      "cell_type": "code",
      "source": [
        "import os\n",
        "import pandas as pd\n",
        "from ydata_profiling import ProfileReport\n",
        "import dask.dataframe as dd  # Usaremos Dask como respaldo si el archivo es grande.\n",
        "\n",
        "# Configuración de directorios\n",
        "data_dir = \"raw-data\"  # Tu carpeta con archivos .parquet\n",
        "output_dir = \"data-profiling\"  # Donde guardarás los reportes HTML\n",
        "os.makedirs(output_dir, exist_ok=True)\n",
        "\n",
        "\n",
        "def process_file(filename, chunk_size=100000):\n",
        "    \"\"\"\n",
        "    Procesa un archivo .parquet, acumulando los datos en chunks (si es necesario),\n",
        "    y genera un único reporte HTML para todo el archivo.\n",
        "    \n",
        "    Parameters:\n",
        "        filename (str): Nombre del archivo .parquet a procesar.\n",
        "        chunk_size (int): Número de filas a cargar en cada chunk (opcional, dependiendo de memoria).\n",
        "    \"\"\"\n",
        "    file_path = os.path.join(data_dir, filename)\n",
        "    report_file = os.path.join(output_dir, filename.replace(\".parquet\", \".html\"))\n",
        "\n",
        "    if os.path.exists(report_file):\n",
        "        print(f\"El reporte para {filename} ya existe. Saltando...\")\n",
        "        return\n",
        "\n",
        "    try:\n",
        "        print(f\"Leyendo archivo completo (posiblemente en chunks): {file_path}\")\n",
        "\n",
        "        # Intentamos cargar todo el archivo de manera incremental (si es grande)\n",
        "        try:\n",
        "            # Usando pandas para archivos pequeños o moderados\n",
        "            df = pd.read_parquet(file_path)\n",
        "\n",
        "        except MemoryError:\n",
        "            print(f\"El archivo {filename} es demasiado grande para pandas. Usando Dask...\")\n",
        "            # Archivo es demasiado grande: usa Dask\n",
        "            ddf = dd.read_parquet(file_path)\n",
        "            df = ddf.compute()  # Convierte a pandas DataFrame en RAM (parcialmente)\n",
        "\n",
        "        # Generamos el reporte único para el archivo completo\n",
        "        print(f\"Generando reporte único para: {filename}\")\n",
        "        profile = ProfileReport(\n",
        "            df,\n",
        "            title=f\"Reporte para {filename}\",\n",
        "            minimal=True  # Reduce cálculos intensivos, pero puedes ajustarlo si necesitas más\n",
        "        )\n",
        "        profile.to_file(report_file)\n",
        "        print(f\"Reporte HTML generado: {report_file}\")\n",
        "\n",
        "    except Exception as e:\n",
        "        print(f\"Error procesando el archivo {filename}: {e}\")\n",
        "\n",
        "\n",
        "def process_all_files():\n",
        "    \"\"\"\n",
        "    Procesa todos los archivos .parquet en el directorio especificado.\n",
        "    Genera un reporte único en formato HTML para cada archivo.\n",
        "    \"\"\"\n",
        "    files = [f for f in os.listdir(data_dir) if f.endswith(\".parquet\")]\n",
        "\n",
        "    for file in files:\n",
        "        process_file(file)\n",
        "\n",
        "\n",
        "if __name__ == \"__main__\":\n",
        "    process_all_files()\n"
      ],
      "outputs": [
        {
          "output_type": "stream",
          "name": "stdout",
          "text": "El reporte para 2024 - 1.parquet ya existe. Saltando...\nLeyendo archivo completo (posiblemente en chunks): raw-data/2024 - 10.parquet\nGenerando reporte único para: 2024 - 10.parquet\n"
        },
        {
          "output_type": "display_data",
          "data": {
            "application/vnd.jupyter.widget-view+json": {
              "model_id": "bdec89faa45c4b09810b5a6ff180c1e5",
              "version_major": 2,
              "version_minor": 0
            },
            "text/plain": "Summarize dataset:   0%|          | 0/5 [00:00<?, ?it/s]"
          },
          "metadata": {}
        },
        {
          "output_type": "display_data",
          "data": {
            "application/vnd.jupyter.widget-view+json": {
              "model_id": "534874a42f5a434aa1573ec028759e6f",
              "version_major": 2,
              "version_minor": 0
            },
            "text/plain": "Generate report structure:   0%|          | 0/1 [00:00<?, ?it/s]"
          },
          "metadata": {}
        },
        {
          "output_type": "display_data",
          "data": {
            "application/vnd.jupyter.widget-view+json": {
              "model_id": "38ded9bb62344d7ab4a517ffc121abc7",
              "version_major": 2,
              "version_minor": 0
            },
            "text/plain": "Render HTML:   0%|          | 0/1 [00:00<?, ?it/s]"
          },
          "metadata": {}
        },
        {
          "output_type": "display_data",
          "data": {
            "application/vnd.jupyter.widget-view+json": {
              "model_id": "bf6e9ec6c35347c28a8c94cb787672df",
              "version_major": 2,
              "version_minor": 0
            },
            "text/plain": "Export report to file:   0%|          | 0/1 [00:00<?, ?it/s]"
          },
          "metadata": {}
        },
        {
          "output_type": "stream",
          "name": "stdout",
          "text": "Reporte HTML generado: data-profiling/2024 - 10.html\nLeyendo archivo completo (posiblemente en chunks): raw-data/2024 - 11.parquet\nGenerando reporte único para: 2024 - 11.parquet\n"
        },
        {
          "output_type": "display_data",
          "data": {
            "application/vnd.jupyter.widget-view+json": {
              "model_id": "1702d2d43d04495fa9f590ce38f88e65",
              "version_major": 2,
              "version_minor": 0
            },
            "text/plain": "Summarize dataset:   0%|          | 0/5 [00:00<?, ?it/s]"
          },
          "metadata": {}
        },
        {
          "output_type": "display_data",
          "data": {
            "application/vnd.jupyter.widget-view+json": {
              "model_id": "99b784f1af0a4d61ae15d1128004f3dc",
              "version_major": 2,
              "version_minor": 0
            },
            "text/plain": "Generate report structure:   0%|          | 0/1 [00:00<?, ?it/s]"
          },
          "metadata": {}
        },
        {
          "output_type": "display_data",
          "data": {
            "application/vnd.jupyter.widget-view+json": {
              "model_id": "505fb28ab1ec4cda8ac9f2c83da3c180",
              "version_major": 2,
              "version_minor": 0
            },
            "text/plain": "Render HTML:   0%|          | 0/1 [00:00<?, ?it/s]"
          },
          "metadata": {}
        },
        {
          "output_type": "display_data",
          "data": {
            "application/vnd.jupyter.widget-view+json": {
              "model_id": "bca6a17830344a049cf6dfea7c63bdd0",
              "version_major": 2,
              "version_minor": 0
            },
            "text/plain": "Export report to file:   0%|          | 0/1 [00:00<?, ?it/s]"
          },
          "metadata": {}
        },
        {
          "output_type": "stream",
          "name": "stdout",
          "text": "Reporte HTML generado: data-profiling/2024 - 11.html\nLeyendo archivo completo (posiblemente en chunks): raw-data/2024 - 12.parquet\nGenerando reporte único para: 2024 - 12.parquet\n"
        },
        {
          "output_type": "display_data",
          "data": {
            "application/vnd.jupyter.widget-view+json": {
              "model_id": "529e7c7cdb084b7082bc1bf6c93395b0",
              "version_major": 2,
              "version_minor": 0
            },
            "text/plain": "Summarize dataset:   0%|          | 0/5 [00:00<?, ?it/s]"
          },
          "metadata": {}
        },
        {
          "output_type": "display_data",
          "data": {
            "application/vnd.jupyter.widget-view+json": {
              "model_id": "0529ac0f5359467d861f142a94d748c8",
              "version_major": 2,
              "version_minor": 0
            },
            "text/plain": "Generate report structure:   0%|          | 0/1 [00:00<?, ?it/s]"
          },
          "metadata": {}
        },
        {
          "output_type": "display_data",
          "data": {
            "application/vnd.jupyter.widget-view+json": {
              "model_id": "5ab80e33d6a84279a48bc5f3415b3a83",
              "version_major": 2,
              "version_minor": 0
            },
            "text/plain": "Render HTML:   0%|          | 0/1 [00:00<?, ?it/s]"
          },
          "metadata": {}
        },
        {
          "output_type": "display_data",
          "data": {
            "application/vnd.jupyter.widget-view+json": {
              "model_id": "61e1b374a613497b93bdee490ef96776",
              "version_major": 2,
              "version_minor": 0
            },
            "text/plain": "Export report to file:   0%|          | 0/1 [00:00<?, ?it/s]"
          },
          "metadata": {}
        },
        {
          "output_type": "stream",
          "name": "stdout",
          "text": "Reporte HTML generado: data-profiling/2024 - 12.html\nLeyendo archivo completo (posiblemente en chunks): raw-data/2024 - 2.parquet\nGenerando reporte único para: 2024 - 2.parquet\n"
        },
        {
          "output_type": "display_data",
          "data": {
            "application/vnd.jupyter.widget-view+json": {
              "model_id": "0e0a42a105fe42fbacd5863385b94a9f",
              "version_major": 2,
              "version_minor": 0
            },
            "text/plain": "Summarize dataset:   0%|          | 0/5 [00:00<?, ?it/s]"
          },
          "metadata": {}
        },
        {
          "output_type": "display_data",
          "data": {
            "application/vnd.jupyter.widget-view+json": {
              "model_id": "e354a1c76345491cabcdda7c08c15d86",
              "version_major": 2,
              "version_minor": 0
            },
            "text/plain": "Generate report structure:   0%|          | 0/1 [00:00<?, ?it/s]"
          },
          "metadata": {}
        },
        {
          "output_type": "display_data",
          "data": {
            "application/vnd.jupyter.widget-view+json": {
              "model_id": "604f1382b5f144fb8bfe32cd0e6ce4b6",
              "version_major": 2,
              "version_minor": 0
            },
            "text/plain": "Render HTML:   0%|          | 0/1 [00:00<?, ?it/s]"
          },
          "metadata": {}
        },
        {
          "output_type": "display_data",
          "data": {
            "application/vnd.jupyter.widget-view+json": {
              "model_id": "73052d5dfa5d446fb20ede61b22d8d6b",
              "version_major": 2,
              "version_minor": 0
            },
            "text/plain": "Export report to file:   0%|          | 0/1 [00:00<?, ?it/s]"
          },
          "metadata": {}
        },
        {
          "output_type": "stream",
          "name": "stdout",
          "text": "Reporte HTML generado: data-profiling/2024 - 2.html\nLeyendo archivo completo (posiblemente en chunks): raw-data/2024 - 3.parquet\nGenerando reporte único para: 2024 - 3.parquet\n"
        },
        {
          "output_type": "display_data",
          "data": {
            "application/vnd.jupyter.widget-view+json": {
              "model_id": "821bf7eb45214dc1aaba2a64d49f87b0",
              "version_major": 2,
              "version_minor": 0
            },
            "text/plain": "Summarize dataset:   0%|          | 0/5 [00:00<?, ?it/s]"
          },
          "metadata": {}
        },
        {
          "output_type": "display_data",
          "data": {
            "application/vnd.jupyter.widget-view+json": {
              "model_id": "4a7d24a900f14f3fa6efc930770d2a8f",
              "version_major": 2,
              "version_minor": 0
            },
            "text/plain": "Generate report structure:   0%|          | 0/1 [00:00<?, ?it/s]"
          },
          "metadata": {}
        },
        {
          "output_type": "display_data",
          "data": {
            "application/vnd.jupyter.widget-view+json": {
              "model_id": "712e47cf4e75418c8c4bc62e1269d312",
              "version_major": 2,
              "version_minor": 0
            },
            "text/plain": "Render HTML:   0%|          | 0/1 [00:00<?, ?it/s]"
          },
          "metadata": {}
        },
        {
          "output_type": "display_data",
          "data": {
            "application/vnd.jupyter.widget-view+json": {
              "model_id": "39fddf3e3ba546febaff4fc70ff42d36",
              "version_major": 2,
              "version_minor": 0
            },
            "text/plain": "Export report to file:   0%|          | 0/1 [00:00<?, ?it/s]"
          },
          "metadata": {}
        },
        {
          "output_type": "stream",
          "name": "stdout",
          "text": "Reporte HTML generado: data-profiling/2024 - 3.html\nLeyendo archivo completo (posiblemente en chunks): raw-data/2024 - 4.parquet\nGenerando reporte único para: 2024 - 4.parquet\n"
        },
        {
          "output_type": "display_data",
          "data": {
            "application/vnd.jupyter.widget-view+json": {
              "model_id": "6218a3f0fb4945ff8073b4f17b0e7523",
              "version_major": 2,
              "version_minor": 0
            },
            "text/plain": "Summarize dataset:   0%|          | 0/5 [00:00<?, ?it/s]"
          },
          "metadata": {}
        },
        {
          "output_type": "display_data",
          "data": {
            "application/vnd.jupyter.widget-view+json": {
              "model_id": "4e4733e2e13144eba8d774a95dcdbe30",
              "version_major": 2,
              "version_minor": 0
            },
            "text/plain": "Generate report structure:   0%|          | 0/1 [00:00<?, ?it/s]"
          },
          "metadata": {}
        },
        {
          "output_type": "display_data",
          "data": {
            "application/vnd.jupyter.widget-view+json": {
              "model_id": "ecfa015d10c645938c2ca3b58ec9e61c",
              "version_major": 2,
              "version_minor": 0
            },
            "text/plain": "Render HTML:   0%|          | 0/1 [00:00<?, ?it/s]"
          },
          "metadata": {}
        },
        {
          "output_type": "display_data",
          "data": {
            "application/vnd.jupyter.widget-view+json": {
              "model_id": "c6a9548883f34799b65efe88eb0ab9e9",
              "version_major": 2,
              "version_minor": 0
            },
            "text/plain": "Export report to file:   0%|          | 0/1 [00:00<?, ?it/s]"
          },
          "metadata": {}
        },
        {
          "output_type": "stream",
          "name": "stdout",
          "text": "Reporte HTML generado: data-profiling/2024 - 4.html\nLeyendo archivo completo (posiblemente en chunks): raw-data/2024 - 5.parquet\nGenerando reporte único para: 2024 - 5.parquet\n"
        },
        {
          "output_type": "display_data",
          "data": {
            "application/vnd.jupyter.widget-view+json": {
              "model_id": "8af882d1f7e8405fa9f3a8e795eab3c3",
              "version_major": 2,
              "version_minor": 0
            },
            "text/plain": "Summarize dataset:   0%|          | 0/5 [00:00<?, ?it/s]"
          },
          "metadata": {}
        },
        {
          "output_type": "display_data",
          "data": {
            "application/vnd.jupyter.widget-view+json": {
              "model_id": "20ff56b0a2dd4ec5aa12de5ddd32ad67",
              "version_major": 2,
              "version_minor": 0
            },
            "text/plain": "Generate report structure:   0%|          | 0/1 [00:00<?, ?it/s]"
          },
          "metadata": {}
        },
        {
          "output_type": "display_data",
          "data": {
            "application/vnd.jupyter.widget-view+json": {
              "model_id": "9a1108f2379347e29af86912195caac7",
              "version_major": 2,
              "version_minor": 0
            },
            "text/plain": "Render HTML:   0%|          | 0/1 [00:00<?, ?it/s]"
          },
          "metadata": {}
        },
        {
          "output_type": "display_data",
          "data": {
            "application/vnd.jupyter.widget-view+json": {
              "model_id": "1cf0652ee96943e7be6d53d7b2f9858a",
              "version_major": 2,
              "version_minor": 0
            },
            "text/plain": "Export report to file:   0%|          | 0/1 [00:00<?, ?it/s]"
          },
          "metadata": {}
        },
        {
          "output_type": "stream",
          "name": "stdout",
          "text": "Reporte HTML generado: data-profiling/2024 - 5.html\nLeyendo archivo completo (posiblemente en chunks): raw-data/2024 - 6.parquet\nGenerando reporte único para: 2024 - 6.parquet\n"
        },
        {
          "output_type": "display_data",
          "data": {
            "application/vnd.jupyter.widget-view+json": {
              "model_id": "8e9638f61ba94fc592444b7a60e576fe",
              "version_major": 2,
              "version_minor": 0
            },
            "text/plain": "Summarize dataset:   0%|          | 0/5 [00:00<?, ?it/s]"
          },
          "metadata": {}
        },
        {
          "output_type": "display_data",
          "data": {
            "application/vnd.jupyter.widget-view+json": {
              "model_id": "b2674a425413431eb24a7cbf80454049",
              "version_major": 2,
              "version_minor": 0
            },
            "text/plain": "Generate report structure:   0%|          | 0/1 [00:00<?, ?it/s]"
          },
          "metadata": {}
        },
        {
          "output_type": "display_data",
          "data": {
            "application/vnd.jupyter.widget-view+json": {
              "model_id": "eb8a82a6018b414aa96cb1f2652b56e0",
              "version_major": 2,
              "version_minor": 0
            },
            "text/plain": "Render HTML:   0%|          | 0/1 [00:00<?, ?it/s]"
          },
          "metadata": {}
        },
        {
          "output_type": "display_data",
          "data": {
            "application/vnd.jupyter.widget-view+json": {
              "model_id": "1fdf9951f9684df8a001b627e77a7fe8",
              "version_major": 2,
              "version_minor": 0
            },
            "text/plain": "Export report to file:   0%|          | 0/1 [00:00<?, ?it/s]"
          },
          "metadata": {}
        },
        {
          "output_type": "stream",
          "name": "stdout",
          "text": "Reporte HTML generado: data-profiling/2024 - 6.html\nLeyendo archivo completo (posiblemente en chunks): raw-data/2024 - 7.parquet\nGenerando reporte único para: 2024 - 7.parquet\n"
        },
        {
          "output_type": "display_data",
          "data": {
            "application/vnd.jupyter.widget-view+json": {
              "model_id": "ba8a202e8ca14c07b62e9704b2a55e0f",
              "version_major": 2,
              "version_minor": 0
            },
            "text/plain": "Summarize dataset:   0%|          | 0/5 [00:00<?, ?it/s]"
          },
          "metadata": {}
        },
        {
          "output_type": "display_data",
          "data": {
            "application/vnd.jupyter.widget-view+json": {
              "model_id": "5e0ccc7c8d264166b2c9a2468bbb28f2",
              "version_major": 2,
              "version_minor": 0
            },
            "text/plain": "Generate report structure:   0%|          | 0/1 [00:00<?, ?it/s]"
          },
          "metadata": {}
        },
        {
          "output_type": "display_data",
          "data": {
            "application/vnd.jupyter.widget-view+json": {
              "model_id": "de15a2c611ff43478fb206adb416bf35",
              "version_major": 2,
              "version_minor": 0
            },
            "text/plain": "Render HTML:   0%|          | 0/1 [00:00<?, ?it/s]"
          },
          "metadata": {}
        },
        {
          "output_type": "display_data",
          "data": {
            "application/vnd.jupyter.widget-view+json": {
              "model_id": "4321e15be0c84d97b71ddfbbab3eb0df",
              "version_major": 2,
              "version_minor": 0
            },
            "text/plain": "Export report to file:   0%|          | 0/1 [00:00<?, ?it/s]"
          },
          "metadata": {}
        },
        {
          "output_type": "stream",
          "name": "stdout",
          "text": "Reporte HTML generado: data-profiling/2024 - 7.html\nLeyendo archivo completo (posiblemente en chunks): raw-data/2024 - 8.parquet\nGenerando reporte único para: 2024 - 8.parquet\n"
        },
        {
          "output_type": "display_data",
          "data": {
            "application/vnd.jupyter.widget-view+json": {
              "model_id": "3613488aeb6841e18c8904b8340e3fec",
              "version_major": 2,
              "version_minor": 0
            },
            "text/plain": "Summarize dataset:   0%|          | 0/5 [00:00<?, ?it/s]"
          },
          "metadata": {}
        },
        {
          "output_type": "display_data",
          "data": {
            "application/vnd.jupyter.widget-view+json": {
              "model_id": "2fac58a008e141e8867d8d3f9380a861",
              "version_major": 2,
              "version_minor": 0
            },
            "text/plain": "Generate report structure:   0%|          | 0/1 [00:00<?, ?it/s]"
          },
          "metadata": {}
        },
        {
          "output_type": "display_data",
          "data": {
            "application/vnd.jupyter.widget-view+json": {
              "model_id": "b944968c1fb54f4db6b77683d00342fd",
              "version_major": 2,
              "version_minor": 0
            },
            "text/plain": "Render HTML:   0%|          | 0/1 [00:00<?, ?it/s]"
          },
          "metadata": {}
        },
        {
          "output_type": "display_data",
          "data": {
            "application/vnd.jupyter.widget-view+json": {
              "model_id": "85ed30f98138488ab7b67072c580c830",
              "version_major": 2,
              "version_minor": 0
            },
            "text/plain": "Export report to file:   0%|          | 0/1 [00:00<?, ?it/s]"
          },
          "metadata": {}
        },
        {
          "output_type": "stream",
          "name": "stdout",
          "text": "Reporte HTML generado: data-profiling/2024 - 8.html\nLeyendo archivo completo (posiblemente en chunks): raw-data/2024 - 9.parquet\nGenerando reporte único para: 2024 - 9.parquet\n"
        },
        {
          "output_type": "display_data",
          "data": {
            "application/vnd.jupyter.widget-view+json": {
              "model_id": "d9b356fc148540fb9d1cf57e88813004",
              "version_major": 2,
              "version_minor": 0
            },
            "text/plain": "Summarize dataset:   0%|          | 0/5 [00:00<?, ?it/s]"
          },
          "metadata": {}
        },
        {
          "output_type": "display_data",
          "data": {
            "application/vnd.jupyter.widget-view+json": {
              "model_id": "ec93fe8e1d6b4a70a61e80b3bab93765",
              "version_major": 2,
              "version_minor": 0
            },
            "text/plain": "Generate report structure:   0%|          | 0/1 [00:00<?, ?it/s]"
          },
          "metadata": {}
        },
        {
          "output_type": "display_data",
          "data": {
            "application/vnd.jupyter.widget-view+json": {
              "model_id": "7a4892c953db4f57ac777d884c937a92",
              "version_major": 2,
              "version_minor": 0
            },
            "text/plain": "Render HTML:   0%|          | 0/1 [00:00<?, ?it/s]"
          },
          "metadata": {}
        },
        {
          "output_type": "display_data",
          "data": {
            "application/vnd.jupyter.widget-view+json": {
              "model_id": "af7f5b6dda4f49168bc41100e610018a",
              "version_major": 2,
              "version_minor": 0
            },
            "text/plain": "Export report to file:   0%|          | 0/1 [00:00<?, ?it/s]"
          },
          "metadata": {}
        },
        {
          "output_type": "stream",
          "name": "stdout",
          "text": "Reporte HTML generado: data-profiling/2024 - 9.html\n"
        }
      ],
      "execution_count": 5,
      "metadata": {
        "editable": false,
        "gather": {
          "logged": 1741383810561
        },
        "run_control": {
          "frozen": true
        }
      }
    },
    {
      "cell_type": "code",
      "source": [],
      "outputs": [],
      "execution_count": null,
      "metadata": {}
    },
    {
      "cell_type": "code",
      "source": [],
      "outputs": [],
      "execution_count": null,
      "metadata": {}
    }
  ],
  "metadata": {
    "kernel_info": {
      "name": "azureml_py38"
    },
    "kernelspec": {
      "name": "azureml_py38",
      "language": "python",
      "display_name": "Python (azureml_py38)"
    },
    "language_info": {
      "name": "python",
      "version": "3.10.11",
      "mimetype": "text/x-python",
      "codemirror_mode": {
        "name": "ipython",
        "version": 3
      },
      "pygments_lexer": "ipython3",
      "nbconvert_exporter": "python",
      "file_extension": ".py"
    },
    "microsoft": {
      "host": {
        "AzureML": {
          "notebookHasBeenCompleted": true
        }
      },
      "ms_spell_check": {
        "ms_spell_check_language": "en"
      }
    },
    "nteract": {
      "version": "nteract-front-end@1.0.0"
    }
  },
  "nbformat": 4,
  "nbformat_minor": 2
}